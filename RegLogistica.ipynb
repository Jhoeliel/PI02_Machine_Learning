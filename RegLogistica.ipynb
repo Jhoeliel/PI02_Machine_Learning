{
 "cells": [
  {
   "cell_type": "code",
   "execution_count": null,
   "metadata": {},
   "outputs": [],
   "source": [
    "import numpy as np\n",
    "import matplotlib.pyplot as plt\n",
    "import pandas as pd"
   ]
  },
  {
   "cell_type": "code",
   "execution_count": null,
   "metadata": {},
   "outputs": [],
   "source": [
    "df_test = pd.read_parquet('proyecto_ML/x_test.parquet')\n",
    "df_train = pd.read_parquet('proyecto_ML/x_train.parquet')"
   ]
  },
  {
   "cell_type": "code",
   "execution_count": null,
   "metadata": {},
   "outputs": [],
   "source": [
    "# Separando features de target\n",
    "X = df_train.iloc[:, [0,3]].values\n",
    "Y = df_train.iloc[:, 82].values"
   ]
  },
  {
   "cell_type": "code",
   "execution_count": null,
   "metadata": {},
   "outputs": [],
   "source": [
    "# Importamos la clase que contiene el algoritmo de regresíon logística\n",
    "\n",
    "from sklearn.linear_model import LogisticRegression\n",
    "\n",
    "# Instanciamos el modelo y lo entrenamos\n",
    "\n",
    "clf = LogisticRegression()\n",
    "\n",
    "# Lo entrenamos\n",
    "\n",
    "clf.fit(X,Y)"
   ]
  },
  {
   "cell_type": "code",
   "execution_count": null,
   "metadata": {},
   "outputs": [],
   "source": [
    "# Importamos una métrica utilizada para evaluar modelos de clasificación. \n",
    "# Ya ahondaremos con mayor especificidad en las métricas de clasificación en la clase 3\n",
    "\n",
    "from sklearn.metrics import accuracy_score \n",
    "\n",
    "# Predecimos\n",
    "\n",
    "y_pred = clf.predict(X)\n",
    "\n",
    "# Evaluamos\n",
    "\n",
    "print('El score del modelo es:', accuracy_score(Y, y_pred))"
   ]
  }
 ],
 "metadata": {
  "kernelspec": {
   "display_name": "Python 3",
   "language": "python",
   "name": "python3"
  },
  "language_info": {
   "name": "python",
   "version": "3.10.5 (tags/v3.10.5:f377153, Jun  6 2022, 16:14:13) [MSC v.1929 64 bit (AMD64)]"
  },
  "orig_nbformat": 4,
  "vscode": {
   "interpreter": {
    "hash": "110fe3fb9777db4ce1f884af3cc527a40b2c98427ad17781c021ef692bd3d28d"
   }
  }
 },
 "nbformat": 4,
 "nbformat_minor": 2
}
